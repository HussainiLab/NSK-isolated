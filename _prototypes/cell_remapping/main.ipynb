{
 "cells": [
  {
   "cell_type": "code",
   "execution_count": 1,
   "metadata": {},
   "outputs": [],
   "source": [
    "# To be able to make edits to repo without having to restart notebook\n",
    "%load_ext autoreload\n",
    "%autoreload 2\n"
   ]
  },
  {
   "cell_type": "code",
   "execution_count": 2,
   "metadata": {},
   "outputs": [
    {
     "name": "stdout",
     "output_type": "stream",
     "text": [
      "c:\\Users\\aaoun\\OneDrive - cumc.columbia.edu\\Desktop\\HussainiLab\\neuroscikit\n"
     ]
    },
    {
     "ename": "KeyboardInterrupt",
     "evalue": "",
     "output_type": "error",
     "traceback": [
      "\u001b[1;31m---------------------------------------------------------------------------\u001b[0m",
      "\u001b[1;31mKeyboardInterrupt\u001b[0m                         Traceback (most recent call last)",
      "\u001b[1;32mc:\\Users\\aaoun\\OneDrive - cumc.columbia.edu\\Desktop\\HussainiLab\\neuroscikit\\_prototypes\\cell_remapping\\main.ipynb Cell 2\u001b[0m in \u001b[0;36m<cell line: 16>\u001b[1;34m()\u001b[0m\n\u001b[0;32m     <a href='vscode-notebook-cell:/c%3A/Users/aaoun/OneDrive%20-%20cumc.columbia.edu/Desktop/HussainiLab/neuroscikit/_prototypes/cell_remapping/main.ipynb#W1sZmlsZQ%3D%3D?line=12'>13</a>\u001b[0m os\u001b[39m.\u001b[39mchdir(project_path)\n\u001b[0;32m     <a href='vscode-notebook-cell:/c%3A/Users/aaoun/OneDrive%20-%20cumc.columbia.edu/Desktop/HussainiLab/neuroscikit/_prototypes/cell_remapping/main.ipynb#W1sZmlsZQ%3D%3D?line=13'>14</a>\u001b[0m \u001b[39mprint\u001b[39m(project_path)\n\u001b[1;32m---> <a href='vscode-notebook-cell:/c%3A/Users/aaoun/OneDrive%20-%20cumc.columbia.edu/Desktop/HussainiLab/neuroscikit/_prototypes/cell_remapping/main.ipynb#W1sZmlsZQ%3D%3D?line=15'>16</a>\u001b[0m \u001b[39mfrom\u001b[39;00m \u001b[39m_prototypes\u001b[39;00m\u001b[39m.\u001b[39;00m\u001b[39mcell_remapping\u001b[39;00m\u001b[39m.\u001b[39;00m\u001b[39mmain\u001b[39;00m \u001b[39mimport\u001b[39;00m main\n\u001b[0;32m     <a href='vscode-notebook-cell:/c%3A/Users/aaoun/OneDrive%20-%20cumc.columbia.edu/Desktop/HussainiLab/neuroscikit/_prototypes/cell_remapping/main.ipynb#W1sZmlsZQ%3D%3D?line=16'>17</a>\u001b[0m \u001b[39mfrom\u001b[39;00m \u001b[39m_prototypes\u001b[39;00m\u001b[39m.\u001b[39;00m\u001b[39mcell_remapping\u001b[39;00m\u001b[39m.\u001b[39;00m\u001b[39msrc\u001b[39;00m\u001b[39m.\u001b[39;00m\u001b[39msettings\u001b[39;00m \u001b[39mimport\u001b[39;00m settings_dict, obj_output, centroid_output, tasks, session_comp_categories, rate_output, context_output, variations\n",
      "File \u001b[1;32mc:\\Users\\aaoun\\OneDrive - cumc.columbia.edu\\Desktop\\HussainiLab\\neuroscikit\\_prototypes\\cell_remapping\\main.py:15\u001b[0m, in \u001b[0;36m<module>\u001b[1;34m\u001b[0m\n\u001b[0;32m     13\u001b[0m \u001b[39mfrom\u001b[39;00m \u001b[39m_prototypes\u001b[39;00m\u001b[39m.\u001b[39;00m\u001b[39mcell_remapping\u001b[39;00m\u001b[39m.\u001b[39;00m\u001b[39msrc\u001b[39;00m\u001b[39m.\u001b[39;00m\u001b[39msettings\u001b[39;00m \u001b[39mimport\u001b[39;00m settings_dict\n\u001b[0;32m     14\u001b[0m \u001b[39mfrom\u001b[39;00m \u001b[39mx_io\u001b[39;00m\u001b[39m.\u001b[39;00m\u001b[39mrw\u001b[39;00m\u001b[39m.\u001b[39;00m\u001b[39maxona\u001b[39;00m\u001b[39m.\u001b[39;00m\u001b[39mbatch_read\u001b[39;00m \u001b[39mimport\u001b[39;00m make_study\n\u001b[1;32m---> 15\u001b[0m \u001b[39mfrom\u001b[39;00m \u001b[39m_prototypes\u001b[39;00m\u001b[39m.\u001b[39;00m\u001b[39mcell_remapping\u001b[39;00m\u001b[39m.\u001b[39;00m\u001b[39msrc\u001b[39;00m\u001b[39m.\u001b[39;00m\u001b[39mremapping\u001b[39;00m \u001b[39mimport\u001b[39;00m compute_remapping\n\u001b[0;32m     18\u001b[0m \u001b[39mdef\u001b[39;00m \u001b[39mmain\u001b[39m(overwrite_settings\u001b[39m=\u001b[39m\u001b[39mNone\u001b[39;00m):\n\u001b[0;32m     19\u001b[0m     start_time \u001b[39m=\u001b[39m time\u001b[39m.\u001b[39mtime()\n",
      "File \u001b[1;32mc:\\Users\\aaoun\\OneDrive - cumc.columbia.edu\\Desktop\\HussainiLab\\neuroscikit\\_prototypes\\cell_remapping\\src\\remapping.py:19\u001b[0m, in \u001b[0;36m<module>\u001b[1;34m\u001b[0m\n\u001b[0;32m     17\u001b[0m \u001b[39mfrom\u001b[39;00m \u001b[39m_prototypes\u001b[39;00m\u001b[39m.\u001b[39;00m\u001b[39mcell_remapping\u001b[39;00m\u001b[39m.\u001b[39;00m\u001b[39msrc\u001b[39;00m\u001b[39m.\u001b[39;00m\u001b[39mmasks\u001b[39;00m \u001b[39mimport\u001b[39;00m make_object_ratemap, check_disk_arena, flat_disk_mask, generate_grid, _sample_grid\n\u001b[0;32m     18\u001b[0m \u001b[39mfrom\u001b[39;00m \u001b[39mlibrary\u001b[39;00m\u001b[39m.\u001b[39;00m\u001b[39mmaps\u001b[39;00m \u001b[39mimport\u001b[39;00m map_blobs\n\u001b[1;32m---> 19\u001b[0m \u001b[39mfrom\u001b[39;00m \u001b[39mscripts\u001b[39;00m\u001b[39m.\u001b[39;00m\u001b[39mbatch_map\u001b[39;00m\u001b[39m.\u001b[39;00m\u001b[39mbatch_map\u001b[39;00m \u001b[39mimport\u001b[39;00m batch_map \n\u001b[0;32m     20\u001b[0m \u001b[39mfrom\u001b[39;00m \u001b[39m_prototypes\u001b[39;00m\u001b[39m.\u001b[39;00m\u001b[39mcell_remapping\u001b[39;00m\u001b[39m.\u001b[39;00m\u001b[39msrc\u001b[39;00m\u001b[39m.\u001b[39;00m\u001b[39msettings\u001b[39;00m \u001b[39mimport\u001b[39;00m obj_output, centroid_output, tasks, session_comp_categories, regular_output, context_output, variations\n\u001b[0;32m     21\u001b[0m \u001b[39mfrom\u001b[39;00m \u001b[39mscripts\u001b[39;00m\u001b[39m.\u001b[39;00m\u001b[39mbatch_map\u001b[39;00m\u001b[39m.\u001b[39;00m\u001b[39mLEC_naming\u001b[39;00m \u001b[39mimport\u001b[39;00m LEC_naming_format, extract_name\n",
      "File \u001b[1;32mc:\\Users\\aaoun\\OneDrive - cumc.columbia.edu\\Desktop\\HussainiLab\\neuroscikit\\scripts\\batch_map\\batch_map.py:13\u001b[0m, in \u001b[0;36m<module>\u001b[1;34m\u001b[0m\n\u001b[0;32m     11\u001b[0m \u001b[39mfrom\u001b[39;00m \u001b[39mlibrary\u001b[39;00m\u001b[39m.\u001b[39;00m\u001b[39mmaps\u001b[39;00m \u001b[39mimport\u001b[39;00m autocorrelation, binary_map, spatial_tuning_curve, map_blobs\n\u001b[0;32m     12\u001b[0m \u001b[39mfrom\u001b[39;00m \u001b[39mlibrary\u001b[39;00m\u001b[39m.\u001b[39;00m\u001b[39mhafting_spatial_maps\u001b[39;00m \u001b[39mimport\u001b[39;00m HaftingOccupancyMap, HaftingRateMap, HaftingSpikeMap, SpatialSpikeTrain2D\n\u001b[1;32m---> 13\u001b[0m \u001b[39mfrom\u001b[39;00m \u001b[39mlibrary\u001b[39;00m\u001b[39m.\u001b[39;00m\u001b[39mscores\u001b[39;00m \u001b[39mimport\u001b[39;00m hd_score, grid_score, border_score\n\u001b[0;32m     14\u001b[0m \u001b[39mfrom\u001b[39;00m \u001b[39mlibrary\u001b[39;00m\u001b[39m.\u001b[39;00m\u001b[39mscores\u001b[39;00m \u001b[39mimport\u001b[39;00m rate_map_stats, rate_map_coherence, speed_score\n\u001b[0;32m     15\u001b[0m \u001b[39mfrom\u001b[39;00m \u001b[39m_prototypes\u001b[39;00m\u001b[39m.\u001b[39;00m\u001b[39mcell_remapping\u001b[39;00m\u001b[39m.\u001b[39;00m\u001b[39msrc\u001b[39;00m\u001b[39m.\u001b[39;00m\u001b[39mmasks\u001b[39;00m \u001b[39mimport\u001b[39;00m flat_disk_mask\n",
      "File \u001b[1;32mc:\\Users\\aaoun\\OneDrive - cumc.columbia.edu\\Desktop\\HussainiLab\\neuroscikit\\library\\scores\\__init__.py:11\u001b[0m, in \u001b[0;36m<module>\u001b[1;34m\u001b[0m\n\u001b[0;32m      9\u001b[0m \u001b[39mfrom\u001b[39;00m \u001b[39mlibrary\u001b[39;00m\u001b[39m.\u001b[39;00m\u001b[39mscores\u001b[39;00m\u001b[39m.\u001b[39;00m\u001b[39mborder_score\u001b[39;00m \u001b[39mimport\u001b[39;00m border_score, border_score_shuffle\n\u001b[0;32m     10\u001b[0m \u001b[39mfrom\u001b[39;00m \u001b[39mlibrary\u001b[39;00m\u001b[39m.\u001b[39;00m\u001b[39mscores\u001b[39;00m\u001b[39m.\u001b[39;00m\u001b[39mgrid_score\u001b[39;00m \u001b[39mimport\u001b[39;00m grid_score\n\u001b[1;32m---> 11\u001b[0m \u001b[39mfrom\u001b[39;00m \u001b[39mlibrary\u001b[39;00m\u001b[39m.\u001b[39;00m\u001b[39mscores\u001b[39;00m\u001b[39m.\u001b[39;00m\u001b[39mrate_map_coherence\u001b[39;00m \u001b[39mimport\u001b[39;00m rate_map_coherence\n\u001b[0;32m     12\u001b[0m \u001b[39mfrom\u001b[39;00m \u001b[39mlibrary\u001b[39;00m\u001b[39m.\u001b[39;00m\u001b[39mscores\u001b[39;00m\u001b[39m.\u001b[39;00m\u001b[39mrate_map_stats\u001b[39;00m \u001b[39mimport\u001b[39;00m rate_map_stats\n\u001b[0;32m     13\u001b[0m \u001b[39mfrom\u001b[39;00m \u001b[39mlibrary\u001b[39;00m\u001b[39m.\u001b[39;00m\u001b[39mscores\u001b[39;00m\u001b[39m.\u001b[39;00m\u001b[39mspeed_score\u001b[39;00m \u001b[39mimport\u001b[39;00m speed_score\n",
      "File \u001b[1;32mc:\\Users\\aaoun\\OneDrive - cumc.columbia.edu\\Desktop\\HussainiLab\\neuroscikit\\library\\scores\\rate_map_coherence.py:19\u001b[0m, in \u001b[0;36m<module>\u001b[1;34m\u001b[0m\n\u001b[0;32m     17\u001b[0m     warnings\u001b[39m.\u001b[39msimplefilter(\u001b[39m\"\u001b[39m\u001b[39mignore\u001b[39m\u001b[39m\"\u001b[39m)\n\u001b[0;32m     18\u001b[0m     \u001b[39m# Suppress the ConfigurationMissingWarning that Astropy triggers\u001b[39;00m\n\u001b[1;32m---> 19\u001b[0m     \u001b[39mfrom\u001b[39;00m \u001b[39mastropy\u001b[39;00m\u001b[39m.\u001b[39;00m\u001b[39mconvolution\u001b[39;00m \u001b[39mimport\u001b[39;00m convolve\n\u001b[0;32m     22\u001b[0m \u001b[39mdef\u001b[39;00m \u001b[39mrate_map_coherence\u001b[39m(spatial_map: SpatialSpikeTrain2D \u001b[39m|\u001b[39m HaftingRateMap, \u001b[39m*\u001b[39m\u001b[39m*\u001b[39mkwargs):\n\u001b[0;32m     23\u001b[0m     \u001b[39m'''\u001b[39;00m\n\u001b[0;32m     24\u001b[0m \u001b[39m    Calculate coherence of a rate map\u001b[39;00m\n\u001b[0;32m     25\u001b[0m \n\u001b[1;32m   (...)\u001b[0m\n\u001b[0;32m     46\u001b[0m \u001b[39m    Copyright (C) 2019 by Simon Ball\u001b[39;00m\n\u001b[0;32m     47\u001b[0m \u001b[39m    '''\u001b[39;00m\n",
      "File \u001b[1;32mc:\\Users\\aaoun\\OneDrive - cumc.columbia.edu\\Desktop\\HussainiLab\\Envs\\envPRISM\\lib\\site-packages\\astropy\\__init__.py:44\u001b[0m, in \u001b[0;36m<module>\u001b[1;34m\u001b[0m\n\u001b[0;32m     38\u001b[0m     online_docs_root \u001b[39m=\u001b[39m \u001b[39mf\u001b[39m\u001b[39m'\u001b[39m\u001b[39mhttps://docs.astropy.org/en/\u001b[39m\u001b[39m{\u001b[39;00m__version__\u001b[39m}\u001b[39;00m\u001b[39m/\u001b[39m\u001b[39m'\u001b[39m\n\u001b[0;32m     41\u001b[0m \u001b[39mfrom\u001b[39;00m \u001b[39m.\u001b[39;00m \u001b[39mimport\u001b[39;00m config \u001b[39mas\u001b[39;00m _config  \u001b[39m# noqa: E402\u001b[39;00m\n\u001b[1;32m---> 44\u001b[0m \u001b[39mclass\u001b[39;00m \u001b[39mConf\u001b[39;00m(_config\u001b[39m.\u001b[39mConfigNamespace):\n\u001b[0;32m     45\u001b[0m     \u001b[39m\"\"\"\u001b[39;00m\n\u001b[0;32m     46\u001b[0m \u001b[39m    Configuration parameters for `astropy`.\u001b[39;00m\n\u001b[0;32m     47\u001b[0m \u001b[39m    \"\"\"\u001b[39;00m\n\u001b[0;32m     49\u001b[0m     unicode_output \u001b[39m=\u001b[39m _config\u001b[39m.\u001b[39mConfigItem(\n\u001b[0;32m     50\u001b[0m         \u001b[39mFalse\u001b[39;00m,\n\u001b[0;32m     51\u001b[0m         \u001b[39m'\u001b[39m\u001b[39mWhen True, use Unicode characters when outputting values, and \u001b[39m\u001b[39m'\u001b[39m\n\u001b[0;32m     52\u001b[0m         \u001b[39m'\u001b[39m\u001b[39mdisplaying widgets at the console.\u001b[39m\u001b[39m'\u001b[39m)\n",
      "File \u001b[1;32mc:\\Users\\aaoun\\OneDrive - cumc.columbia.edu\\Desktop\\HussainiLab\\Envs\\envPRISM\\lib\\site-packages\\astropy\\__init__.py:49\u001b[0m, in \u001b[0;36mConf\u001b[1;34m()\u001b[0m\n\u001b[0;32m     44\u001b[0m \u001b[39mclass\u001b[39;00m \u001b[39mConf\u001b[39;00m(_config\u001b[39m.\u001b[39mConfigNamespace):\n\u001b[0;32m     45\u001b[0m     \u001b[39m\"\"\"\u001b[39;00m\n\u001b[0;32m     46\u001b[0m \u001b[39m    Configuration parameters for `astropy`.\u001b[39;00m\n\u001b[0;32m     47\u001b[0m \u001b[39m    \"\"\"\u001b[39;00m\n\u001b[1;32m---> 49\u001b[0m     unicode_output \u001b[39m=\u001b[39m _config\u001b[39m.\u001b[39;49mConfigItem(\n\u001b[0;32m     50\u001b[0m         \u001b[39mFalse\u001b[39;49;00m,\n\u001b[0;32m     51\u001b[0m         \u001b[39m'\u001b[39;49m\u001b[39mWhen True, use Unicode characters when outputting values, and \u001b[39;49m\u001b[39m'\u001b[39;49m\n\u001b[0;32m     52\u001b[0m         \u001b[39m'\u001b[39;49m\u001b[39mdisplaying widgets at the console.\u001b[39;49m\u001b[39m'\u001b[39;49m)\n\u001b[0;32m     53\u001b[0m     use_color \u001b[39m=\u001b[39m _config\u001b[39m.\u001b[39mConfigItem(\n\u001b[0;32m     54\u001b[0m         sys\u001b[39m.\u001b[39mplatform \u001b[39m!=\u001b[39m \u001b[39m'\u001b[39m\u001b[39mwin32\u001b[39m\u001b[39m'\u001b[39m,\n\u001b[0;32m     55\u001b[0m         \u001b[39m'\u001b[39m\u001b[39mWhen True, use ANSI color escape sequences when writing to the console.\u001b[39m\u001b[39m'\u001b[39m,\n\u001b[0;32m     56\u001b[0m         aliases\u001b[39m=\u001b[39m[\u001b[39m'\u001b[39m\u001b[39mastropy.utils.console.USE_COLOR\u001b[39m\u001b[39m'\u001b[39m, \u001b[39m'\u001b[39m\u001b[39mastropy.logger.USE_COLOR\u001b[39m\u001b[39m'\u001b[39m])\n\u001b[0;32m     57\u001b[0m     max_lines \u001b[39m=\u001b[39m _config\u001b[39m.\u001b[39mConfigItem(\n\u001b[0;32m     58\u001b[0m         \u001b[39mNone\u001b[39;00m,\n\u001b[0;32m     59\u001b[0m         description\u001b[39m=\u001b[39m\u001b[39m'\u001b[39m\u001b[39mMaximum number of lines in the display of pretty-printed \u001b[39m\u001b[39m'\u001b[39m\n\u001b[1;32m   (...)\u001b[0m\n\u001b[0;32m     62\u001b[0m         cfgtype\u001b[39m=\u001b[39m\u001b[39m'\u001b[39m\u001b[39minteger(default=None)\u001b[39m\u001b[39m'\u001b[39m,\n\u001b[0;32m     63\u001b[0m         aliases\u001b[39m=\u001b[39m[\u001b[39m'\u001b[39m\u001b[39mastropy.table.pprint.max_lines\u001b[39m\u001b[39m'\u001b[39m])\n",
      "File \u001b[1;32mc:\\Users\\aaoun\\OneDrive - cumc.columbia.edu\\Desktop\\HussainiLab\\Envs\\envPRISM\\lib\\site-packages\\astropy\\config\\configuration.py:255\u001b[0m, in \u001b[0;36mConfigItem.__init__\u001b[1;34m(self, defaultvalue, description, cfgtype, module, aliases)\u001b[0m\n\u001b[0;32m    252\u001b[0m \u001b[39mfrom\u001b[39;00m \u001b[39mastropy\u001b[39;00m\u001b[39m.\u001b[39;00m\u001b[39mutils\u001b[39;00m \u001b[39mimport\u001b[39;00m isiterable\n\u001b[0;32m    254\u001b[0m \u001b[39mif\u001b[39;00m module \u001b[39mis\u001b[39;00m \u001b[39mNone\u001b[39;00m:\n\u001b[1;32m--> 255\u001b[0m     module \u001b[39m=\u001b[39m find_current_module(\u001b[39m2\u001b[39;49m)\n\u001b[0;32m    256\u001b[0m     \u001b[39mif\u001b[39;00m module \u001b[39mis\u001b[39;00m \u001b[39mNone\u001b[39;00m:\n\u001b[0;32m    257\u001b[0m         msg1 \u001b[39m=\u001b[39m \u001b[39m'\u001b[39m\u001b[39mCannot automatically determine get_config module, \u001b[39m\u001b[39m'\u001b[39m\n",
      "File \u001b[1;32mc:\\Users\\aaoun\\OneDrive - cumc.columbia.edu\\Desktop\\HussainiLab\\Envs\\envPRISM\\lib\\site-packages\\astropy\\utils\\introspection.py:279\u001b[0m, in \u001b[0;36mfind_current_module\u001b[1;34m(depth, finddiff)\u001b[0m\n\u001b[0;32m    277\u001b[0m         frm \u001b[39m=\u001b[39m frmb\n\u001b[0;32m    278\u001b[0m \u001b[39melse\u001b[39;00m:\n\u001b[1;32m--> 279\u001b[0m     \u001b[39mreturn\u001b[39;00m _get_module_from_frame(frm)\n",
      "File \u001b[1;32mc:\\Users\\aaoun\\OneDrive - cumc.columbia.edu\\Desktop\\HussainiLab\\Envs\\envPRISM\\lib\\site-packages\\astropy\\utils\\introspection.py:292\u001b[0m, in \u001b[0;36m_get_module_from_frame\u001b[1;34m(frm)\u001b[0m\n\u001b[0;32m    282\u001b[0m \u001b[39mdef\u001b[39;00m \u001b[39m_get_module_from_frame\u001b[39m(frm):\n\u001b[0;32m    283\u001b[0m     \u001b[39m\"\"\"Uses inspect.getmodule() to get the module that the current frame's\u001b[39;00m\n\u001b[0;32m    284\u001b[0m \u001b[39m    code is running in.\u001b[39;00m\n\u001b[0;32m    285\u001b[0m \n\u001b[1;32m   (...)\u001b[0m\n\u001b[0;32m    289\u001b[0m \u001b[39m    particular case.\u001b[39;00m\n\u001b[0;32m    290\u001b[0m \u001b[39m    \"\"\"\u001b[39;00m\n\u001b[1;32m--> 292\u001b[0m     mod \u001b[39m=\u001b[39m inspect\u001b[39m.\u001b[39;49mgetmodule(frm)\n\u001b[0;32m    293\u001b[0m     \u001b[39mif\u001b[39;00m mod \u001b[39mis\u001b[39;00m \u001b[39mnot\u001b[39;00m \u001b[39mNone\u001b[39;00m:\n\u001b[0;32m    294\u001b[0m         \u001b[39mreturn\u001b[39;00m mod\n",
      "File \u001b[1;32m~\\AppData\\Local\\Programs\\Python\\Python310\\lib\\inspect.py:878\u001b[0m, in \u001b[0;36mgetmodule\u001b[1;34m(object, _filename)\u001b[0m\n\u001b[0;32m    875\u001b[0m         f \u001b[39m=\u001b[39m getabsfile(module)\n\u001b[0;32m    876\u001b[0m         \u001b[39m# Always map to the name the module knows itself by\u001b[39;00m\n\u001b[0;32m    877\u001b[0m         modulesbyfile[f] \u001b[39m=\u001b[39m modulesbyfile[\n\u001b[1;32m--> 878\u001b[0m             os\u001b[39m.\u001b[39;49mpath\u001b[39m.\u001b[39;49mrealpath(f)] \u001b[39m=\u001b[39m module\u001b[39m.\u001b[39m\u001b[39m__name__\u001b[39m\n\u001b[0;32m    879\u001b[0m \u001b[39mif\u001b[39;00m file \u001b[39min\u001b[39;00m modulesbyfile:\n\u001b[0;32m    880\u001b[0m     \u001b[39mreturn\u001b[39;00m sys\u001b[39m.\u001b[39mmodules\u001b[39m.\u001b[39mget(modulesbyfile[file])\n",
      "File \u001b[1;32m~\\AppData\\Local\\Programs\\Python\\Python310\\lib\\ntpath.py:686\u001b[0m, in \u001b[0;36mrealpath\u001b[1;34m(path, strict)\u001b[0m\n\u001b[0;32m    684\u001b[0m     path \u001b[39m=\u001b[39m join(cwd, path)\n\u001b[0;32m    685\u001b[0m \u001b[39mtry\u001b[39;00m:\n\u001b[1;32m--> 686\u001b[0m     path \u001b[39m=\u001b[39m _getfinalpathname(path)\n\u001b[0;32m    687\u001b[0m     initial_winerror \u001b[39m=\u001b[39m \u001b[39m0\u001b[39m\n\u001b[0;32m    688\u001b[0m \u001b[39mexcept\u001b[39;00m \u001b[39mOSError\u001b[39;00m \u001b[39mas\u001b[39;00m ex:\n",
      "\u001b[1;31mKeyboardInterrupt\u001b[0m: "
     ]
    }
   ],
   "source": [
    "import os, sys\n",
    "import numpy as np\n",
    "import pandas as pd\n",
    "\n",
    "PROJECT_PATH = os.getcwd()\n",
    "sys.path.append(PROJECT_PATH)\n",
    "\n",
    "# Set necessary paths / make project path = ...../neuroscikit/\n",
    "renapping_path = os.getcwd()\n",
    "prototype_path = os.path.abspath(os.path.join(renapping_path, os.pardir))\n",
    "project_path = os.path.abspath(os.path.join(prototype_path, os.pardir))\n",
    "sys.path.append(project_path)\n",
    "os.chdir(project_path)\n",
    "print(project_path)\n",
    "\n",
    "from _prototypes.cell_remapping.main import main\n",
    "from _prototypes.cell_remapping.src.settings import settings_dict, obj_output, centroid_output, tasks, session_comp_categories, rate_output, context_output, variations"
   ]
  },
  {
   "cell_type": "code",
   "execution_count": null,
   "metadata": {},
   "outputs": [],
   "source": [
    "\"\"\" \n",
    "GLOBAL SETTINGS\n",
    "\"\"\"\n",
    "\n",
    "settings_dict['ppm'] = None # EDIT HERE\n",
    "settings_dict['smoothing_factor'] = 3 # EDIT HERE\n",
    "settings_dict['useMatchedCut'] = False # EDIT HERE"
   ]
  },
  {
   "cell_type": "code",
   "execution_count": null,
   "metadata": {},
   "outputs": [],
   "source": [
    "\"\"\" \n",
    "IF YOU ARE DOING RATE REMAPPING\n",
    "\"\"\"\n",
    "\n",
    "settings_dict['plotRate'] = False # EDIT HERE\n",
    "settings_dict['normalizeRate'] = False # EDIT HERE"
   ]
  },
  {
   "cell_type": "code",
   "execution_count": null,
   "metadata": {},
   "outputs": [],
   "source": [
    "\"\"\" \n",
    "IF YOU ARE DOING OBJECT REMAPPING\n",
    "\"\"\"\n",
    "\n",
    "settings_dict['hasObject'] = False # EDIT HERE\n",
    "settings_dict['plotObject'] = False # EDIT HERE\n",
    "\n",
    "variations = [0,90,180,270,'no']"
   ]
  },
  {
   "cell_type": "code",
   "execution_count": null,
   "metadata": {},
   "outputs": [],
   "source": [
    "\"\"\" \n",
    "IF YOU ARE DOING CENTROID REMAPPING\n",
    "\"\"\"\n",
    "\n",
    "settings_dict['runFields'] = False # EDIT HERE\n",
    "settings_dict['plotFields'] = False # EDIT HERE"
   ]
  },
  {
   "cell_type": "code",
   "execution_count": null,
   "metadata": {},
   "outputs": [],
   "source": [
    "\"\"\" \n",
    "IF YOU ARE DOING CONTEXT REMAPPING\n",
    "\"\"\"\n",
    "\n",
    "settings_dict['runUniqueGroups'] = False # EDIT HERE\n",
    "\n",
    "session_comp_categories = {'morning': [1,3], 'afternoon': [2,4]}"
   ]
  },
  {
   "cell_type": "code",
   "execution_count": null,
   "metadata": {},
   "outputs": [],
   "source": [
    "# RUN CELL REMAPPING, will prompt you for data directory\n",
    "main(settings_dict)"
   ]
  },
  {
   "cell_type": "code",
   "execution_count": null,
   "metadata": {},
   "outputs": [],
   "source": [
    "import filecmp\n",
    "from x_io.rw.axona.read_tetrode_and_cut import _read_tetrode"
   ]
  },
  {
   "cell_type": "code",
   "execution_count": null,
   "metadata": {},
   "outputs": [],
   "source": [
    "# fs[2] = r'C:/Users/aaoun/OneDrive - cumc.columbia.edu/Desktop/HussainiLab/neuroscikit_test_data/LEC_odor/AD/Odor_119a-6/ANT-119a-6_20170717-2125-odorxba.3'"
   ]
  },
  {
   "cell_type": "code",
   "execution_count": null,
   "metadata": {},
   "outputs": [],
   "source": [
    "path = r'C:/Users/aaoun/OneDrive - cumc.columbia.edu/Desktop/HussainiLab/neuroscikit_test_data/LEC_odor/AD/Odor_119a-6/'\n",
    "fns = r'ANT-119a-6_20170717-2125-odorxba.'\n",
    "fs = []\n",
    "for i in range(8):\n",
    "    fs.append(path + fns + str(i+1))"
   ]
  },
  {
   "cell_type": "code",
   "execution_count": null,
   "metadata": {},
   "outputs": [
    {
     "name": "stdout",
     "output_type": "stream",
     "text": [
      "1 1\n",
      "3900 5\n",
      "1 2\n",
      "3900 5\n",
      "1 3\n",
      "3900 5\n",
      "1 4\n",
      "3900 5\n",
      "1 5\n",
      "3900 5\n",
      "1 6\n",
      "3900 5\n",
      "1 7\n",
      "3900 5\n",
      "1 8\n",
      "3900 5\n",
      "2 1\n",
      "11424 5\n",
      "2 2\n",
      "11424 5\n",
      "2 3\n",
      "11424 5\n",
      "2 4\n",
      "11424 5\n",
      "2 5\n",
      "11424 5\n",
      "2 6\n",
      "11424 5\n",
      "2 7\n",
      "11424 5\n",
      "2 8\n",
      "11424 5\n",
      "3 1\n",
      "6855 5\n",
      "3 2\n",
      "6855 5\n",
      "3 3\n",
      "6855 5\n",
      "3 4\n",
      "6855 5\n",
      "3 5\n",
      "6855 5\n",
      "3 6\n",
      "6855 5\n",
      "3 7\n",
      "6855 5\n",
      "3 8\n",
      "6855 5\n",
      "4 1\n",
      "11631 5\n",
      "4 2\n",
      "11631 5\n",
      "4 3\n",
      "11631 5\n",
      "4 4\n",
      "11631 5\n",
      "4 5\n",
      "11631 5\n",
      "4 6\n",
      "11631 5\n",
      "4 7\n",
      "11631 5\n",
      "4 8\n",
      "11631 5\n",
      "5 1\n",
      "2169 5\n",
      "5 2\n",
      "2169 5\n",
      "5 3\n",
      "2169 5\n",
      "5 4\n",
      "2169 5\n",
      "5 5\n",
      "2169 5\n",
      "5 6\n",
      "2169 5\n",
      "5 7\n",
      "2169 5\n",
      "5 8\n",
      "2169 5\n",
      "6 1\n",
      "4927 5\n",
      "6 2\n",
      "4927 5\n",
      "6 3\n",
      "4927 5\n",
      "6 4\n",
      "4927 5\n",
      "6 5\n",
      "4927 5\n",
      "6 6\n",
      "4927 5\n",
      "6 7\n",
      "4927 5\n",
      "6 8\n",
      "4927 5\n",
      "7 1\n",
      "3900 5\n",
      "7 2\n",
      "3900 5\n",
      "7 3\n",
      "3900 5\n",
      "7 4\n",
      "3900 5\n",
      "7 5\n",
      "3900 5\n",
      "7 6\n",
      "3900 5\n",
      "7 7\n",
      "3900 5\n",
      "7 8\n",
      "3900 5\n",
      "8 1\n",
      "5454 5\n",
      "8 2\n",
      "5454 5\n",
      "8 3\n",
      "5454 5\n",
      "8 4\n",
      "5454 5\n",
      "8 5\n",
      "5454 5\n",
      "8 6\n",
      "5454 5\n",
      "8 7\n",
      "5454 5\n",
      "8 8\n",
      "5454 5\n"
     ]
    }
   ],
   "source": [
    "for f1 in fs:\n",
    "    with open(f1, 'rb') as open_f1:\n",
    "        f1tet = _read_tetrode(open_f1)[0]\n",
    "\n",
    "    # date1 = f1tet['datetime']\n",
    "    # nspikes1 = f1tet['num_spikes']\n",
    "    for f2 in fs:\n",
    "        with open(f2, 'rb') as open_f2:\n",
    "            f2tet = _read_tetrode(open_f2)[0]\n",
    "        # date2 = f2tet['datetime']\n",
    "        # nspikes2 = f2tet['num_spikes']\n",
    "        print(f1.split('.')[-1], f2.split('.')[-1])\n",
    "        # print(date1, nspikes1, date2, nspikes2)\n",
    "        print(len(f1tet['t']), len(f2tet['t']))\n",
    "        # if filecmp.cmp(f1, f2) == True:\n",
    "        #     print(f1, f2)"
   ]
  }
 ],
 "metadata": {
  "kernelspec": {
   "display_name": "Python 3.10.6 ('envPRISM')",
   "language": "python",
   "name": "python3"
  },
  "language_info": {
   "codemirror_mode": {
    "name": "ipython",
    "version": 3
   },
   "file_extension": ".py",
   "mimetype": "text/x-python",
   "name": "python",
   "nbconvert_exporter": "python",
   "pygments_lexer": "ipython3",
   "version": "3.10.6"
  },
  "orig_nbformat": 4,
  "vscode": {
   "interpreter": {
    "hash": "271de3eaf5512a01a3a2cea9253de8f7a978ec97e5a00bc2131d971ee349090f"
   }
  }
 },
 "nbformat": 4,
 "nbformat_minor": 2
}
