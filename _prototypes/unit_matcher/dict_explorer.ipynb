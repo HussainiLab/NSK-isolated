{
 "cells": [
  {
   "cell_type": "code",
   "execution_count": 1,
   "metadata": {},
   "outputs": [],
   "source": [
    "\"\"\" ACTIVE JUPYTER NOTEBOOK TO BATCH RUN UNIT MATCHING ALGORITHM \"\"\"\n",
    "\n",
    "# To be able to make edits to repo without having to restart notebook\n",
    "%load_ext autoreload\n",
    "%autoreload 2\n"
   ]
  },
  {
   "cell_type": "code",
   "execution_count": 2,
   "metadata": {},
   "outputs": [
    {
     "name": "stdout",
     "output_type": "stream",
     "text": [
      "c:\\Users\\aaoun\\OneDrive - cumc.columbia.edu\\Desktop\\HussainiLab\\neuroscikit\n"
     ]
    }
   ],
   "source": [
    "# Outside imports\n",
    "import os, sys\n",
    "import numpy as np\n",
    "import matplotlib.pyplot as plt\n",
    "import pandas as pd\n",
    "\n",
    "# Set necessary paths / make project path = ...../neuroscikit/\n",
    "unit_matcher_path = os.getcwd()\n",
    "prototype_path = os.path.abspath(os.path.join(unit_matcher_path, os.pardir))\n",
    "project_path = os.path.abspath(os.path.join(prototype_path, os.pardir))\n",
    "lab_path = os.path.abspath(os.path.join(project_path, os.pardir))\n",
    "sys.path.append(project_path)\n",
    "os.chdir(project_path)\n",
    "print(project_path)\n",
    "\n",
    "# Internal imports\n",
    "\n",
    "# Read write modules\n",
    "from x_io.rw.axona.batch_read import make_study\n",
    "from _prototypes.unit_matcher.read_axona import read_sequential_sessions, temp_read_cut\n",
    "from _prototypes.unit_matcher.write_axona import format_new_cut_file_name\n",
    "\n",
    "# Unit matching modules\n",
    "from _prototypes.unit_matcher.main import format_cut, run_unit_matcher, map_unit_matches_first_session, map_unit_matches_sequential_session\n",
    "from _prototypes.unit_matcher.session import compare_sessions\n",
    "from _prototypes.unit_matcher.waveform import time_index, derivative, derivative2, morphological_points"
   ]
  },
  {
   "cell_type": "code",
   "execution_count": 3,
   "metadata": {},
   "outputs": [],
   "source": [
    "import pickle "
   ]
  },
  {
   "cell_type": "code",
   "execution_count": 4,
   "metadata": {},
   "outputs": [],
   "source": [
    "# pca_output_path = lab_path + r'\\neuroscikit_test_data\\20170315-270-3525_Test' + r'\\20170315-270-3525_3_matched.cut' + r'_pca.pickle'\n",
    "# mapping_output_path = lab_path + r'\\neuroscikit_test_data\\20170315-270-3525_Test' + r'\\20170315-270-3525_3_matched.cut' + r'_mappings.pickle'\n",
    "\n",
    "# pca_output_path = lab_path + r'\\neuroscikit_test_data\\20180502-ROUND-3000' + r'\\20180502-ROUND-3000' + r'\\20180502-ROUND-3000-90-2_4_matched.cut' + r'_pca.pickle'\n",
    "# mapping_output_path = lab_path + r'\\neuroscikit_test_data\\20180502-ROUND-3000' + r'\\20180502-ROUND-3000' + r'\\20180502-ROUND-3000-90-2_4_matched.cut' + r'_mappings.pickle'\n",
    "mapping_output_path = r'C:\\Users\\aaoun\\OneDrive - cumc.columbia.edu\\Desktop\\HussainiLab\\neuroscikit_test_data\\Test_File_Andrew-20221216T163437Z-001\\Test_File_Andrew\\20151208-2-2-90_1_matched.cut_mappings.pickle'"
   ]
  },
  {
   "cell_type": "code",
   "execution_count": 5,
   "metadata": {},
   "outputs": [],
   "source": [
    "with open(mapping_output_path, 'rb') as handle:\n",
    "    mapping_output = pickle.load(handle)\n",
    "# with open(pca_output_path, 'rb') as handle:\n",
    "#     pca_output = pickle.load(handle)\n"
   ]
  },
  {
   "cell_type": "code",
   "execution_count": null,
   "metadata": {},
   "outputs": [],
   "source": [
    "mapping_output[1].keys()"
   ]
  },
  {
   "cell_type": "code",
   "execution_count": 12,
   "metadata": {},
   "outputs": [
    {
     "data": {
      "text/plain": [
       "{5: 4,\n",
       " 9: 1,\n",
       " 12: 10,\n",
       " 13: 3,\n",
       " 14: 17,\n",
       " 17: 2,\n",
       " 2: 12,\n",
       " 3: 15,\n",
       " 4: 5,\n",
       " 6: 16,\n",
       " 7: 7,\n",
       " 8: 25,\n",
       " 10: 11,\n",
       " 11: 24,\n",
       " 15: 20,\n",
       " 16: 14,\n",
       " 18: 19,\n",
       " 0: 0,\n",
       " 1: 0}"
      ]
     },
     "execution_count": 12,
     "metadata": {},
     "output_type": "execute_result"
    }
   ],
   "source": [
    "print(mapping_output[1]['first_ses_map_dict'])\n",
    "print(mapping_output[1]['map_dict'])\n",
    "print(mapping_output[2]['map_dict'])\n",
    "print(mapping_output[3]['map_dict'])"
   ]
  },
  {
   "cell_type": "code",
   "execution_count": 15,
   "metadata": {},
   "outputs": [
    {
     "data": {
      "text/plain": [
       "{'isFirstSession': False,\n",
       " 'matches': array([[ 1.,  7.],\n",
       "        [ 2., 27.],\n",
       "        [ 3., 17.],\n",
       "        [11.,  9.],\n",
       "        [12., 13.],\n",
       "        [25.,  5.],\n",
       "        [ 4., 23.],\n",
       "        [ 5., 28.],\n",
       "        [ 6.,  2.],\n",
       "        [ 7.,  8.],\n",
       "        [ 8., 18.],\n",
       "        [ 9., 19.],\n",
       "        [10., 21.],\n",
       "        [13., 15.],\n",
       "        [14., 24.],\n",
       "        [15.,  6.],\n",
       "        [16., 26.],\n",
       "        [17., 16.],\n",
       "        [18., 11.],\n",
       "        [19., 20.],\n",
       "        [20., 14.],\n",
       "        [21., 12.],\n",
       "        [22.,  4.],\n",
       "        [24.,  3.],\n",
       "        [26., 25.]]),\n",
       " 'match_distances': array([0.30653541, 0.32616536, 0.34886781, 0.36174929, 0.36436063,\n",
       "        0.34158977, 0.39484868, 0.42515479, 0.41196537, 0.39831934,\n",
       "        0.39987759, 0.4171841 , 0.40398572, 0.50106294, 0.46610462,\n",
       "        0.40301733, 0.50416537, 0.35629253, 0.36946731, 0.42362799,\n",
       "        0.44496332, 0.35326031, 0.41880989, 0.40134172, 0.37511332]),\n",
       " 'unmatched_2': [22.0],\n",
       " 'unmatched_1': [],\n",
       " 'pair': (<library.study_space.Session at 0x1fd41f7d540>,\n",
       "  <library.study_space.Session at 0x1fddf46bc40>),\n",
       " 'agg_distances': array([[[0.47403883, 0.8066845 , 0.24461147, ..., 0.67615416,\n",
       "          0.85970183, 0.70089655],\n",
       "         [0.42087194, 0.81187737, 0.25853606, ..., 0.59506173,\n",
       "          0.79134123, 0.48604996],\n",
       "         [0.51830943, 0.38293283, 0.32691907, ..., 0.57904923,\n",
       "          0.94306266, 0.70842648],\n",
       "         ...,\n",
       "         [0.495007  , 0.89722119, 0.44785372, ..., 1.03052398,\n",
       "          0.60842377, 0.61949743],\n",
       "         [0.24276764, 0.80140429, 0.15697908, ..., 0.54208791,\n",
       "          0.32588468, 0.34217359],\n",
       "         [0.57289179, 0.72725631, 0.40821632, ..., 0.56665403,\n",
       "          0.48620354, 0.63774737]],\n",
       " \n",
       "        [[0.48905982, 0.99573241, 0.36245131, ..., 0.87111383,\n",
       "          0.85567639, 1.11385895],\n",
       "         [0.27351125, 0.97166732, 0.46321343, ..., 0.75930109,\n",
       "          0.76361442, 0.88050999],\n",
       "         [0.5215849 , 0.41457506, 0.45121755, ..., 0.71351451,\n",
       "          0.92421752, 1.13015411],\n",
       "         ...,\n",
       "         [0.48260505, 1.07718719, 0.67902123, ..., 1.24035798,\n",
       "          0.77318576, 0.52306625],\n",
       "         [0.05985361, 0.73559787, 0.24387381, ..., 0.48713405,\n",
       "          0.22374968, 0.4546753 ],\n",
       "         [0.58893605, 0.83248118, 0.60904818, ..., 0.71828129,\n",
       "          0.68647589, 0.51099579]],\n",
       " \n",
       "        [[0.41351828, 0.69724453, 0.20761611, ..., 0.81987012,\n",
       "          0.55077276, 0.66226921],\n",
       "         [0.29231716, 0.21031466, 0.20726117, ..., 0.74771342,\n",
       "          0.465792  , 0.45427365],\n",
       "         [0.39650116, 0.69209325, 0.26345669, ..., 0.87610574,\n",
       "          0.6384503 , 0.6751825 ],\n",
       "         ...,\n",
       "         [0.45582348, 0.68247306, 0.38421493, ..., 0.24797292,\n",
       "          0.27937428, 0.23521851],\n",
       "         [0.33648046, 0.84458543, 0.1901727 , ..., 1.06433403,\n",
       "          0.50225098, 0.51558951],\n",
       "         [0.4370857 , 0.64653616, 0.33495943, ..., 0.65630318,\n",
       "          0.23156719, 0.23502003]],\n",
       " \n",
       "        ...,\n",
       " \n",
       "        [[0.3247189 , 0.75840085, 0.25445958, ..., 0.27321108,\n",
       "          0.46636633, 0.2358507 ],\n",
       "         [0.19012917, 0.62676017, 0.29634982, ..., 0.15714155,\n",
       "          0.38053376, 0.25094332],\n",
       "         [0.28276868, 0.615348  , 0.29585182, ..., 0.45767275,\n",
       "          0.54411068, 0.2892571 ],\n",
       "         ...,\n",
       "         [0.32349961, 0.73886788, 0.46962895, ..., 0.72187171,\n",
       "          0.28351955, 0.53496971],\n",
       "         [0.21398498, 0.90110771, 0.3477409 , ..., 0.66210002,\n",
       "          0.57780129, 0.88305741],\n",
       "         [0.34098148, 0.64518342, 0.40020573, ..., 0.24171   ,\n",
       "          0.25363002, 0.52353756]],\n",
       " \n",
       "        [[0.35285866, 0.70975292, 0.23728036, ..., 0.55395614,\n",
       "          0.71486792, 0.76145997],\n",
       "         [0.30126086, 0.80490989, 0.26739649, ..., 0.50303635,\n",
       "          0.65355266, 0.58019921],\n",
       "         [0.37818496, 0.6680866 , 0.27569522, ..., 0.45308948,\n",
       "          0.79387433, 0.77585518],\n",
       "         ...,\n",
       "         [0.36920262, 0.66183136, 0.43039907, ..., 0.88708922,\n",
       "          0.53288726, 0.42773906],\n",
       "         [0.20733711, 0.8738405 , 0.25488725, ..., 0.57954467,\n",
       "          0.29986795, 0.39873867],\n",
       "         [0.43320299, 0.71676101, 0.37741834, ..., 0.48920088,\n",
       "          0.42681808, 0.45046496]],\n",
       " \n",
       "        [[0.46745078, 0.73523936, 0.36037042, ..., 0.52805485,\n",
       "          0.79480319, 0.8337051 ],\n",
       "         [0.42206022, 0.74093743, 0.30483128, ..., 0.53993862,\n",
       "          0.7429524 , 0.68669733],\n",
       "         [0.49955397, 0.36494229, 0.38958684, ..., 0.28583553,\n",
       "          0.8727541 , 0.85296829],\n",
       "         ...,\n",
       "         [0.49003395, 0.81119786, 0.37054932, ..., 0.92421151,\n",
       "          0.61908305, 0.54340114],\n",
       "         [0.32109897, 0.88484119, 0.30847566, ..., 0.34024098,\n",
       "          0.46148156, 0.49991602],\n",
       "         [0.54812096, 0.67736491, 0.3529681 , ..., 0.59646905,\n",
       "          0.50692079, 0.56657319]]]),\n",
       " 'map_dict': {7: 2,\n",
       "  27: 1,\n",
       "  17: 4,\n",
       "  9: 11,\n",
       "  13: 6,\n",
       "  5: 5,\n",
       "  23: 13,\n",
       "  28: 21,\n",
       "  2: 18,\n",
       "  8: 16,\n",
       "  18: 12,\n",
       "  19: 17,\n",
       "  21: 10,\n",
       "  15: 23,\n",
       "  24: 26,\n",
       "  6: 20,\n",
       "  26: 25,\n",
       "  16: 7,\n",
       "  11: 9,\n",
       "  20: 24,\n",
       "  14: 22,\n",
       "  12: 3,\n",
       "  4: 19,\n",
       "  3: 15,\n",
       "  25: 14,\n",
       "  22.0: 8,\n",
       "  0: 0,\n",
       "  1: 0,\n",
       "  10: 0}}"
      ]
     },
     "execution_count": 15,
     "metadata": {},
     "output_type": "execute_result"
    }
   ],
   "source": [
    "mapping_output[2]"
   ]
  },
  {
   "cell_type": "code",
   "execution_count": 7,
   "metadata": {},
   "outputs": [
    {
     "ename": "NameError",
     "evalue": "name 'stop' is not defined",
     "output_type": "error",
     "traceback": [
      "\u001b[1;31m---------------------------------------------------------------------------\u001b[0m",
      "\u001b[1;31mNameError\u001b[0m                                 Traceback (most recent call last)",
      "\u001b[1;32mc:\\Users\\aaoun\\OneDrive - cumc.columbia.edu\\Desktop\\HussainiLab\\neuroscikit\\_prototypes\\unit_matcher\\dict_explorer.ipynb Cell 7\u001b[0m in \u001b[0;36m<cell line: 1>\u001b[1;34m()\u001b[0m\n\u001b[1;32m----> <a href='vscode-notebook-cell:/c%3A/Users/aaoun/OneDrive%20-%20cumc.columbia.edu/Desktop/HussainiLab/neuroscikit/_prototypes/unit_matcher/dict_explorer.ipynb#X14sZmlsZQ%3D%3D?line=0'>1</a>\u001b[0m stop()\n",
      "\u001b[1;31mNameError\u001b[0m: name 'stop' is not defined"
     ]
    }
   ],
   "source": [
    "stop()"
   ]
  },
  {
   "cell_type": "code",
   "execution_count": null,
   "metadata": {},
   "outputs": [],
   "source": [
    "pca_output['20180502-ROUND-3000_tet1'].keys()"
   ]
  },
  {
   "cell_type": "code",
   "execution_count": null,
   "metadata": {},
   "outputs": [],
   "source": [
    "plt.plot(pca_output['20180502-ROUND-3000_tet1']['explained_variance_ratio'])\n",
    "plt.show()"
   ]
  },
  {
   "cell_type": "code",
   "execution_count": null,
   "metadata": {},
   "outputs": [],
   "source": [
    "pca_output['20180502-ROUND-3000_tet1']['singular_values'][:10]"
   ]
  },
  {
   "cell_type": "code",
   "execution_count": null,
   "metadata": {},
   "outputs": [],
   "source": [
    "pca_output['20180502-ROUND-3000_tet1']['explained_variance_ratio'][:10]"
   ]
  },
  {
   "cell_type": "code",
   "execution_count": null,
   "metadata": {},
   "outputs": [],
   "source": [
    "mapping_output[1]['match_distances']"
   ]
  }
 ],
 "metadata": {
  "kernelspec": {
   "display_name": "Python 3.10.6 ('envPRISM')",
   "language": "python",
   "name": "python3"
  },
  "language_info": {
   "codemirror_mode": {
    "name": "ipython",
    "version": 3
   },
   "file_extension": ".py",
   "mimetype": "text/x-python",
   "name": "python",
   "nbconvert_exporter": "python",
   "pygments_lexer": "ipython3",
   "version": "3.10.6 (tags/v3.10.6:9c7b4bd, Aug  1 2022, 21:53:49) [MSC v.1932 64 bit (AMD64)]"
  },
  "orig_nbformat": 4,
  "vscode": {
   "interpreter": {
    "hash": "271de3eaf5512a01a3a2cea9253de8f7a978ec97e5a00bc2131d971ee349090f"
   }
  }
 },
 "nbformat": 4,
 "nbformat_minor": 2
}
